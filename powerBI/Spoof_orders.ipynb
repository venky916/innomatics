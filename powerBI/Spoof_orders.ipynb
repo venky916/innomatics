{
 "cells": [
  {
   "cell_type": "code",
   "execution_count": 39,
   "id": "fc0873b3",
   "metadata": {},
   "outputs": [],
   "source": [
    "import pandas as pd\n",
    "import numpy as np"
   ]
  },
  {
   "cell_type": "code",
   "execution_count": 40,
   "id": "c20f9939",
   "metadata": {},
   "outputs": [
    {
     "data": {
      "text/html": [
       "<div>\n",
       "<style scoped>\n",
       "    .dataframe tbody tr th:only-of-type {\n",
       "        vertical-align: middle;\n",
       "    }\n",
       "\n",
       "    .dataframe tbody tr th {\n",
       "        vertical-align: top;\n",
       "    }\n",
       "\n",
       "    .dataframe thead th {\n",
       "        text-align: right;\n",
       "    }\n",
       "</style>\n",
       "<table border=\"1\" class=\"dataframe\">\n",
       "  <thead>\n",
       "    <tr style=\"text-align: right;\">\n",
       "      <th></th>\n",
       "      <th>id</th>\n",
       "      <th>k3id</th>\n",
       "      <th>clearing_order_id</th>\n",
       "      <th>order_id</th>\n",
       "      <th>buy_sell</th>\n",
       "      <th>mmy</th>\n",
       "      <th>underlying_settle_method</th>\n",
       "      <th>exchange_code</th>\n",
       "      <th>account</th>\n",
       "      <th>clearing_account</th>\n",
       "      <th>...</th>\n",
       "      <th>order_state</th>\n",
       "      <th>price</th>\n",
       "      <th>last_price</th>\n",
       "      <th>strike_price</th>\n",
       "      <th>trader</th>\n",
       "      <th>trader_ref</th>\n",
       "      <th>exchange</th>\n",
       "      <th>order_group_quantity</th>\n",
       "      <th>version_num</th>\n",
       "      <th>order_set_status</th>\n",
       "    </tr>\n",
       "  </thead>\n",
       "  <tbody>\n",
       "    <tr>\n",
       "      <th>0</th>\n",
       "      <td>12774010</td>\n",
       "      <td>12774008</td>\n",
       "      <td>425113764</td>\n",
       "      <td>2000124</td>\n",
       "      <td>Sell</td>\n",
       "      <td>NaN</td>\n",
       "      <td>Fin</td>\n",
       "      <td>GUU</td>\n",
       "      <td>NaN</td>\n",
       "      <td>AC0008</td>\n",
       "      <td>...</td>\n",
       "      <td>Inactive</td>\n",
       "      <td>2.2181</td>\n",
       "      <td>0</td>\n",
       "      <td>NaN</td>\n",
       "      <td>John Obero Smith</td>\n",
       "      <td>jos_nfc</td>\n",
       "      <td>IFED</td>\n",
       "      <td>NaN</td>\n",
       "      <td>1</td>\n",
       "      <td>Replace</td>\n",
       "    </tr>\n",
       "    <tr>\n",
       "      <th>1</th>\n",
       "      <td>12749063</td>\n",
       "      <td>12749061</td>\n",
       "      <td>425113764</td>\n",
       "      <td>2000124</td>\n",
       "      <td>Sell</td>\n",
       "      <td>NaN</td>\n",
       "      <td>Fin</td>\n",
       "      <td>GUU</td>\n",
       "      <td>NaN</td>\n",
       "      <td>AC0008</td>\n",
       "      <td>...</td>\n",
       "      <td>Inactive</td>\n",
       "      <td>2.2181</td>\n",
       "      <td>0</td>\n",
       "      <td>NaN</td>\n",
       "      <td>John Obero Smith</td>\n",
       "      <td>jos_nfc</td>\n",
       "      <td>IFED</td>\n",
       "      <td>NaN</td>\n",
       "      <td>1</td>\n",
       "      <td>Replace</td>\n",
       "    </tr>\n",
       "    <tr>\n",
       "      <th>2</th>\n",
       "      <td>12800013</td>\n",
       "      <td>12800011</td>\n",
       "      <td>425113764</td>\n",
       "      <td>2000124</td>\n",
       "      <td>Sell</td>\n",
       "      <td>NaN</td>\n",
       "      <td>Fin</td>\n",
       "      <td>GUU</td>\n",
       "      <td>NaN</td>\n",
       "      <td>AC0008</td>\n",
       "      <td>...</td>\n",
       "      <td>Inactive</td>\n",
       "      <td>2.2181</td>\n",
       "      <td>0</td>\n",
       "      <td>NaN</td>\n",
       "      <td>John Obero Smith</td>\n",
       "      <td>jos_nfc</td>\n",
       "      <td>IFED</td>\n",
       "      <td>NaN</td>\n",
       "      <td>1</td>\n",
       "      <td>Replace</td>\n",
       "    </tr>\n",
       "    <tr>\n",
       "      <th>3</th>\n",
       "      <td>12774262</td>\n",
       "      <td>12774260</td>\n",
       "      <td>425113764</td>\n",
       "      <td>2000124</td>\n",
       "      <td>Sell</td>\n",
       "      <td>NaN</td>\n",
       "      <td>Fin</td>\n",
       "      <td>GUU</td>\n",
       "      <td>NaN</td>\n",
       "      <td>AC0008</td>\n",
       "      <td>...</td>\n",
       "      <td>Inactive</td>\n",
       "      <td>2.2181</td>\n",
       "      <td>0</td>\n",
       "      <td>NaN</td>\n",
       "      <td>John Obero Smith</td>\n",
       "      <td>jos_nfc</td>\n",
       "      <td>IFED</td>\n",
       "      <td>NaN</td>\n",
       "      <td>1</td>\n",
       "      <td>Replace</td>\n",
       "    </tr>\n",
       "    <tr>\n",
       "      <th>4</th>\n",
       "      <td>12839029</td>\n",
       "      <td>12839027</td>\n",
       "      <td>425113764</td>\n",
       "      <td>2000121</td>\n",
       "      <td>Sell</td>\n",
       "      <td>NaN</td>\n",
       "      <td>Fin</td>\n",
       "      <td>GUU</td>\n",
       "      <td>NaN</td>\n",
       "      <td>AC0008</td>\n",
       "      <td>...</td>\n",
       "      <td>Inactive</td>\n",
       "      <td>2.2181</td>\n",
       "      <td>0</td>\n",
       "      <td>NaN</td>\n",
       "      <td>John Obero Smith</td>\n",
       "      <td>jos_nfc</td>\n",
       "      <td>IFED</td>\n",
       "      <td>NaN</td>\n",
       "      <td>1</td>\n",
       "      <td>Replace</td>\n",
       "    </tr>\n",
       "  </tbody>\n",
       "</table>\n",
       "<p>5 rows × 32 columns</p>\n",
       "</div>"
      ],
      "text/plain": [
       "         id      k3id  clearing_order_id  order_id buy_sell  mmy  \\\n",
       "0  12774010  12774008          425113764   2000124     Sell  NaN   \n",
       "1  12749063  12749061          425113764   2000124     Sell  NaN   \n",
       "2  12800013  12800011          425113764   2000124     Sell  NaN   \n",
       "3  12774262  12774260          425113764   2000124     Sell  NaN   \n",
       "4  12839029  12839027          425113764   2000121     Sell  NaN   \n",
       "\n",
       "  underlying_settle_method exchange_code account clearing_account  ...  \\\n",
       "0                      Fin           GUU     NaN           AC0008  ...   \n",
       "1                      Fin           GUU     NaN           AC0008  ...   \n",
       "2                      Fin           GUU     NaN           AC0008  ...   \n",
       "3                      Fin           GUU     NaN           AC0008  ...   \n",
       "4                      Fin           GUU     NaN           AC0008  ...   \n",
       "\n",
       "  order_state   price last_price strike_price            trader  trader_ref  \\\n",
       "0    Inactive  2.2181          0          NaN  John Obero Smith     jos_nfc   \n",
       "1    Inactive  2.2181          0          NaN  John Obero Smith     jos_nfc   \n",
       "2    Inactive  2.2181          0          NaN  John Obero Smith     jos_nfc   \n",
       "3    Inactive  2.2181          0          NaN  John Obero Smith     jos_nfc   \n",
       "4    Inactive  2.2181          0          NaN  John Obero Smith     jos_nfc   \n",
       "\n",
       "   exchange  order_group_quantity  version_num  order_set_status  \n",
       "0      IFED                   NaN            1           Replace  \n",
       "1      IFED                   NaN            1           Replace  \n",
       "2      IFED                   NaN            1           Replace  \n",
       "3      IFED                   NaN            1           Replace  \n",
       "4      IFED                   NaN            1           Replace  \n",
       "\n",
       "[5 rows x 32 columns]"
      ]
     },
     "execution_count": 40,
     "metadata": {},
     "output_type": "execute_result"
    }
   ],
   "source": [
    "df=pd.read_csv(r\"C:\\Users\\sudee\\Downloads\\pbiTaskDataMay21.csv\")\n",
    "df.head()"
   ]
  },
  {
   "cell_type": "code",
   "execution_count": 41,
   "id": "12872770",
   "metadata": {},
   "outputs": [
    {
     "data": {
      "text/plain": [
       "(3628, 32)"
      ]
     },
     "execution_count": 41,
     "metadata": {},
     "output_type": "execute_result"
    }
   ],
   "source": [
    "df.shape"
   ]
  },
  {
   "cell_type": "code",
   "execution_count": 42,
   "id": "93be67b0",
   "metadata": {
    "scrolled": true
   },
   "outputs": [
    {
     "name": "stdout",
     "output_type": "stream",
     "text": [
      "<class 'pandas.core.frame.DataFrame'>\n",
      "RangeIndex: 3628 entries, 0 to 3627\n",
      "Data columns (total 32 columns):\n",
      " #   Column                       Non-Null Count  Dtype  \n",
      "---  ------                       --------------  -----  \n",
      " 0   id                           3628 non-null   int64  \n",
      " 1   k3id                         3628 non-null   int64  \n",
      " 2   clearing_order_id            3628 non-null   int64  \n",
      " 3   order_id                     3628 non-null   int64  \n",
      " 4   buy_sell                     3628 non-null   object \n",
      " 5   mmy                          0 non-null      float64\n",
      " 6   underlying_settle_method     2727 non-null   object \n",
      " 7   exchange_code                3261 non-null   object \n",
      " 8   account                      10 non-null     object \n",
      " 9   clearing_account             3628 non-null   object \n",
      " 10  legal_entity                 3628 non-null   object \n",
      " 11  exec_type                    3628 non-null   object \n",
      " 12  exec_id                      3628 non-null   object \n",
      " 13  execution_time               3628 non-null   object \n",
      " 14  trans_type                   3628 non-null   object \n",
      " 15  execution_time_only_morning  753 non-null    float64\n",
      " 16  execution_time_only_evening  2875 non-null   float64\n",
      " 17  filled_quantity              3628 non-null   int64  \n",
      " 18  open_quantity                3628 non-null   int64  \n",
      " 19  order_quantity               3628 non-null   int64  \n",
      " 20  option_type                  0 non-null      float64\n",
      " 21  order_type                   3614 non-null   object \n",
      " 22  order_state                  3628 non-null   object \n",
      " 23  price                        3628 non-null   float64\n",
      " 24  last_price                   3628 non-null   int64  \n",
      " 25  strike_price                 0 non-null      float64\n",
      " 26  trader                       3628 non-null   object \n",
      " 27  trader_ref                   3628 non-null   object \n",
      " 28  exchange                     3593 non-null   object \n",
      " 29  order_group_quantity         623 non-null    float64\n",
      " 30  version_num                  3628 non-null   int64  \n",
      " 31  order_set_status             3628 non-null   object \n",
      "dtypes: float64(7), int64(9), object(16)\n",
      "memory usage: 907.1+ KB\n"
     ]
    }
   ],
   "source": [
    "df.info()"
   ]
  },
  {
   "cell_type": "code",
   "execution_count": 43,
   "id": "c907afe1",
   "metadata": {
    "scrolled": false
   },
   "outputs": [
    {
     "name": "stdout",
     "output_type": "stream",
     "text": [
      "['Sell' 'Buy']\n",
      "['Fin' nan 'Phys']\n",
      "['GUU' 'HOF' 'TRL' nan 'TZZ' 'ARN' 'H' 'AOP' 'NEP' 'TDQ' 'JFL' 'SOY' 'I'\n",
      " 'BNB' 'TMW' 'PMI' 'ERK' 'N' 'B' 'T' 'C' '14Y' 'BS1' 'YJ8' 'SB' 'Z1Q' 'CC'\n",
      " 'CGM' 'ALG' 'DDF' 'ARI' 'TMF' 'TMR' 'HHD' 'CIN' 'YDG' 'SXT' 'NVE' 'CGB'\n",
      " 'TRZ' 'P1X' 'MCD' 'ADD' 'ADB' 'Z7K' 'AOD' 'ULN' 'XS2' 'YDJ' 'YDY' 'ATW'\n",
      " 'FFM' 'HBT' 'ERN' 'NYH' 'NAY' 'ICO' 'MCO' 'EKI' 'EKF' 'NEV' 'EVN' 'MSO'\n",
      " 'HEB' 'ERH' 'NEB']\n",
      "[nan 'Non-segregated']\n",
      "['AC0008' 'AC0105' 'AC0025' 'AC0120' 'AC0000']\n",
      "['National Fuels Corp Ottawa' 'National Fuels Canada'\n",
      " 'National Fuels Corp']\n",
      "['Replace' 'Canceled' 'Partial Fill' 'Fill' 'New']\n",
      "['425113764:2:Unfill' '425113764:3:Unfill' '452204708:3:Unfill' ...\n",
      " '877586868:1:Ack' '910108661:1:Ack' '971386640:1:Ack']\n",
      "['12/5/2022 1:35' '13-05-2022 1:35:00 AM' '17-05-2022 1:35:00 AM' ...\n",
      " '26-10-2021 11:31:32 AM' '26-05-2021 4:26:47 AM' '26-10-2021 11:31:58 AM']\n",
      "['New']\n",
      "[ 135.  130. 1139. 1131. 1137. 1141.  905.  910.  615.  620. 1111.   12.\n",
      "   nan 1132.  414.  426.  416. 1037. 1036. 1058.]\n",
      "[  nan 2200. 1414. 1801. 2333. 2329. 2331. 2328. 2325. 1512. 2110. 2150.\n",
      " 1417. 1740. 2031. 2119. 1550. 2015. 2018. 1737. 1750. 1343. 1543. 1914.\n",
      " 1530. 2149. 1624. 1628. 1751. 2136. 2307. 2315. 2306. 2308. 2305. 2145.\n",
      " 1900. 2154. 1333. 1945. 1519. 1800. 1600. 1508. 1730. 1601. 1507. 1533.\n",
      " 1816. 1613. 1732. 1615. 1704. 2002. 1449. 1500. 2309. 2313. 2311. 2312.\n",
      " 1349. 1321. 1322. 1808. 1241. 1859. 1749. 1756. 1757. 1952. 1342. 1249.\n",
      " 2129. 1244. 1902. 1323. 1901. 1850. 1803. 1853. 1352. 1350. 1353. 1748.\n",
      " 1354. 1858. 1758. 1555. 1553. 1557. 1548. 1552. 1415. 1419. 1418. 1420.\n",
      " 1416. 1802. 1804. 1835. 1807. 1744. 1810. 1806. 2337. 2341. 2336. 1849.\n",
      " 1728. 1357. 1755. 1614. 1725. 2052. 2106. 2032. 2122. 1738. 1721. 1727.\n",
      " 2033. 1453. 2023. 2022. 1723. 1546. 1942. 1331. 1742. 2000. 1834. 2323.\n",
      " 2338. 2335. 2339. 2322. 2324. 2320. 2326. 2316. 2318. 2314. 2317. 2310.\n",
      " 2321. 2319. 2304. 1243. 1647. 1446. 1745. 1621. 1927. 1709. 1932. 1336.\n",
      " 1503. 1410. 1648. 1603. 1547. 1431. 1425. 1240. 1435. 1535. 1609. 1436.\n",
      " 1528. 1707. 1608. 1501. 1307. 1346. 1305. 1520. 1444. 1735. 2126. 2016.\n",
      " 1408. 1817. 1523. 1635. 1434. 1337. 1532. 2152. 1708. 1729. 2037. 1719.\n",
      " 1733. 1607. 2155. 1746. 1544. 1642. 1741. 1537. 2125. 1909. 1611. 1612.\n",
      " 1430. 1259. 1441. 1518. 2132. 1711. 1812. 2123. 1610. 1710. 1937. 1401.\n",
      " 2114. 2120. 1653. 1811. 1636. 1643. 1344. 1637. 1545. 1413. 1700. 2005.\n",
      " 1443. 1340. 1250. 1540. 1558. 1256. 1517. 1312. 1258. 1539. 2035. 1252.\n",
      " 1848. 1625. 1724. 2104. 1341. 1214. 1411. 1212. 1622. 2117. 1718. 1657.\n",
      " 1556. 1959. 1833. 1847. 1345. 1638. 1936. 1351. 1753. 1656. 1805. 1734.\n",
      " 1716. 1652. 1702. 1455. 1456. 1454. 1303. 1521. 1332. 1743. 2118. 1827.\n",
      " 1602. 1739. 1542. 1302. 1406. 1405. 1404. 1736. 1314. 1541. 1457. 2034.\n",
      " 1356. 1407. 1451. 1606. 1714. 1522. 1908. 1747. 1554. 1809. 1951. 1320.\n",
      " 1247. 2102. 1726. 2116. 1846. 1935. 1752. 1717. 1958. 1257. 1910. 1437.\n",
      " 1639. 1538. 1525. 1335. 1224. 1347. 1842.]\n",
      "[    0     1  2500     2     5   100    20    25    10   150    15    50\n",
      "  5000     3     4 20000    48     7     6   292 12500  1000   120    18\n",
      "    91     9   500   220   245    11    56    13   101   230     8 15000\n",
      " 10000  7500]\n",
      "[   45  1000   500    50     1   100    11  2500    25    15  7500     5\n",
      "    10     3  5000    17 12500     0    20     2     6    30     7   492\n",
      "     4   499    13 30000 15000   200    60 25000 37500   300 17500 40000\n",
      "    12 10000 47500 20000 60000 35000    26 22500 42500 50000   400   350\n",
      "   494   493   498   497   496     9     8    37    29    36    27    35\n",
      "    24    18    23    33    32    19    34    38    16    14    21    31\n",
      "    28    22    44    91    56   503   220   245   101   150   230   302\n",
      "    51   120  1001]\n",
      "[   45  1000   500    50     1   100    11  2500    25    15  7500     5\n",
      "    10 17500    19     6   150 12500     7     2     4    20    30   200\n",
      "    13 30000 15000 10000    60 25000 37500   300 40000    12 47500 20000\n",
      " 60000 35000    26 22500 42500 50000  5000     3  1001    51   503   302\n",
      "     8    44     9   120    18    91   220   245    56   101   230]\n",
      "[nan]\n",
      "['Limit' nan]\n",
      "['Inactive' 'Withdrawn' 'Active' 'Consummated']\n",
      "[ 2.21810e+00  2.22010e+00  2.21460e+00  2.30410e+00  2.31280e+00\n",
      "  2.51360e+00  1.00000e+00  2.29750e+00  2.30450e+00  2.29790e+00\n",
      " -1.85000e-01 -1.82000e-01  2.25400e+00  5.33500e+01  5.35500e+01\n",
      "  2.40000e-01 -9.90000e-02 -1.75000e-02  2.47000e+01 -1.30000e-01\n",
      " -9.25000e-02  1.95660e+00  2.50000e+00 -3.15000e+00  2.50000e-01\n",
      " -3.26000e+00 -6.75000e-02  2.51700e+00  2.84000e+01  1.98500e+01\n",
      "  8.95000e+00 -8.50000e-02 -6.30000e-02  2.39000e+01 -6.20000e-02\n",
      " -3.36000e+00  6.92490e+02  6.92480e+02  1.03009e+03  7.76000e+00\n",
      "  6.44500e+01 -1.44000e+01  2.30490e+00  5.26000e+01  2.23000e+01\n",
      "  2.26000e+01  4.62000e+01  2.15500e+01  4.58000e+01  5.25000e+01\n",
      "  4.65500e+01  4.60000e+01  2.19000e+01  4.63500e+01  3.44000e+01\n",
      "  3.42500e+01  1.87510e+00  7.21900e+01  5.56300e+01  6.50000e+01\n",
      "  1.80780e+00  5.57700e+01  7.37600e+01  1.80720e+00  5.43300e+01\n",
      "  6.03100e+01  7.21500e+01  6.14600e+01  2.04570e+00  6.56500e+01\n",
      "  6.45000e+01  2.10970e+00  5.58700e+01  6.50200e+01  1.80000e+03\n",
      "  2.04650e+00  1.74000e+03  1.80750e+00  0.00000e+00  8.20000e+01\n",
      "  6.50100e+01  2.95600e+00  2.87940e+00  2.15300e+00  2.98460e+00\n",
      "  1.16640e+00  1.36270e+00  6.90000e+01  6.48400e+01  1.80690e+00\n",
      "  5.46000e+02  1.87350e+00  5.45750e+02  4.00000e-02  5.10000e-01\n",
      "  1.89000e+00  2.10860e+00  6.27600e+01  6.47100e+01  6.23100e+01\n",
      "  2.20000e+01  3.30000e+01 -3.20000e+00  3.32000e+01  5.06250e-01\n",
      "  1.60000e+01  2.75000e+01  3.00000e+00  6.76600e+01  5.00000e-01\n",
      "  1.50000e+01  2.55200e+03  1.35160e+00  1.35680e+00  2.00900e+00\n",
      "  2.10900e+00  6.08600e+01  1.87430e+00  6.20900e+01  1.79000e+00\n",
      "  1.83620e+00  2.26130e+00 -1.17000e+01 -2.40000e-02  6.52320e+00\n",
      "  3.72560e+00  2.43500e+00  2.29100e+00 -1.46000e+00 -1.29000e-01\n",
      "  3.65000e+00 -1.08000e+00 -1.10000e+01 -1.25000e-01  7.46100e+00\n",
      "  1.37350e+01  4.13100e+00  7.47000e+00  2.25310e+00  2.22800e+00\n",
      "  1.42485e+01  2.21980e+00  2.24390e+00  3.59450e+00  2.24430e+00\n",
      "  2.97000e+00  3.64870e+00  3.54750e+00  1.00130e+01  2.98060e+00\n",
      "  2.23020e+00  2.92050e+00  2.58400e+00  2.74600e+00  2.24800e+00\n",
      "  2.24210e+00  4.75000e+00  3.82000e+00  4.50000e+00  4.05400e+00\n",
      "  2.10000e+00  3.75000e+00  5.00000e+00  4.00000e-01  2.00000e-02\n",
      " -5.00000e-04  1.00000e-03 -2.75000e-02  4.30000e-01 -2.00000e-02\n",
      "  4.60000e-01  3.60000e-01  2.15000e-02  7.00000e-02  3.50000e-01\n",
      "  4.50000e-01 -1.05000e-02  3.50000e-02  1.00000e-01 -4.50000e-01\n",
      " -4.75000e-02 -1.25000e-02 -9.95000e-02 -7.90000e-02 -7.00000e-02\n",
      "  6.82600e+01  6.56000e+00  6.47500e+01 -1.06200e+01  5.46900e+01\n",
      "  6.50900e+01  6.57300e+01  6.58400e+01  6.57900e+01  6.49700e+01\n",
      "  6.51300e+01  2.57800e+03  2.53800e+03  2.98500e+01  2.53900e+03\n",
      "  2.57600e+03  2.54100e+03  2.88000e+01  2.53600e+03  6.41400e+01\n",
      "  2.58100e+03  6.51500e+01  1.22000e+00  5.71900e+01  2.76000e+01\n",
      "  5.51200e+01  3.95150e+00  1.16170e+00  1.14010e+00  1.35360e+00\n",
      "  1.35400e+00  2.24480e+00  2.90000e+00  6.54000e+01  5.28600e+01\n",
      "  7.73000e+00  6.91200e+01  5.50100e+01  4.22700e+01  6.53600e+01\n",
      "  6.50800e+01  5.32400e+01  6.49800e+01  5.75300e+01  2.59200e+00\n",
      "  3.00000e+01  2.30000e+01  5.50000e+01  8.15000e+00  6.57400e+01\n",
      "  6.57200e+01  5.99200e+01  7.01900e+01  2.87500e+01  8.26000e+00\n",
      "  1.80670e+00  2.74500e+01  5.45250e+02  1.90000e+00  7.02400e+01\n",
      "  5.11250e-01  5.47500e-01  5.31200e+01  4.40000e+01  1.23400e+03\n",
      "  3.32500e+01  3.20000e+01  3.36000e+02  1.20000e+01  5.16250e-01\n",
      "  5.53750e-01  2.40000e+01  4.20000e+01  1.16150e+00  1.16660e+00\n",
      "  1.13970e+00  1.16130e+00  1.16300e+00  1.16620e+00  1.16160e+00\n",
      "  1.35230e+00  1.37000e+00  1.33480e+00  2.08570e+00  2.85460e+00\n",
      "  6.56600e+01  6.38100e+01  6.44800e+01  6.50700e+01  7.20800e+01\n",
      "  5.50800e+01  6.57500e+01  6.08200e+01  6.57100e+01  5.99400e+01\n",
      "  6.50300e+01  6.54600e+01  7.02200e+01  6.30000e+01  7.20900e+01\n",
      "  2.07860e+00  7.08900e+01  5.62300e+01  5.83500e+01  6.50600e+01\n",
      "  5.47000e+02  4.22500e+01  2.22650e+00 -1.10000e+00  3.07500e+01\n",
      "  7.20000e+00  2.88500e+01  1.87200e+01  2.62500e+01  3.08000e+01\n",
      "  2.50000e+01  2.56000e+01  4.45000e+00  1.37400e+01  2.54500e+01\n",
      "  2.68000e+01  1.17500e+01  2.80000e+01  2.65000e+01  3.06000e+01\n",
      "  2.79500e+01  1.84000e+01  7.55000e+00 -3.30000e+00  3.19500e+01\n",
      "  3.26000e+01 -1.35000e+00 -1.05000e+00 -1.06000e+01 -1.09000e+01\n",
      " -3.40000e+00  1.37500e+01 -3.10000e+00  3.53850e+00  2.21910e+00\n",
      "  3.93220e+00  3.28150e+00  3.92950e+00  3.54040e+00  3.24950e+00\n",
      "  5.99200e+00  3.16870e+00  2.92450e+00  9.99720e+00  2.34900e+00\n",
      "  2.23700e+00 -1.41500e+01  4.73000e+00  9.37000e+00  2.13800e+00\n",
      "  3.05500e+01  8.55000e+00  2.10910e+00]\n",
      "[   0   68    7   28   65  -11   55   46    8   66    2    9   63   25\n",
      "   24 2578 2538   30    3 2539   20 2576 2541   29 2536   64 2581    1\n",
      "   57    4   53   69   42   58   22   23   60   70   27  545   44 1234\n",
      "   33   32  336   12   61   72   71   56   43  547   -1   31   19   26\n",
      "   14   18   -3   10    6  -14    5]\n",
      "[nan]\n",
      "['John Obero Smith' 'Xylene Rhegis' 'Gyllenhal Sons']\n",
      "['jos_nfc' 'xr_nfc' 'gs_nfc']\n",
      "['IFED' 'IFEU' 'IFLX' 'IEPA' nan 'IFUS']\n",
      "[       nan -5.000e+02 -1.000e+01 -4.000e+00  1.000e+03 -6.000e+00\n",
      "  8.000e+00  1.200e+01  5.000e+01 -1.000e+02 -2.500e+01 -2.000e+00\n",
      "  2.000e+00 -5.000e+01 -1.100e+01  5.000e+00  6.000e+00  4.000e+00\n",
      "  3.000e+00 -2.000e+02  4.400e+01  1.000e+01  2.500e+03  1.000e+02\n",
      " -1.500e+01  1.500e+01 -5.000e+00  2.000e+01 -9.000e+00 -3.000e+00\n",
      "  2.500e+01  9.100e+01  5.600e+01  1.100e+01  9.000e+00  3.000e+01\n",
      " -7.000e+00 -2.000e+01 -5.030e+02 -1.300e+01 -3.000e+01 -2.200e+02\n",
      " -2.450e+02  1.300e+01  1.800e+01 -1.010e+02  7.000e+00 -1.500e+02\n",
      " -2.300e+02 -3.020e+02 -1.000e+03 -5.100e+01 -2.500e+03 -4.500e+01\n",
      "  5.000e+02  7.500e+03  1.750e+04  1.900e+01  1.500e+02 -1.250e+04\n",
      " -2.500e+04 -1.500e+04 -3.750e+04  3.000e+02  1.250e+04 -4.000e+04\n",
      " -1.200e+01  1.000e+04 -4.750e+04  2.000e+04 -6.000e+04 -3.500e+04\n",
      " -2.600e+01  3.000e+04  2.250e+04  2.000e+02 -4.250e+04  2.500e+04\n",
      "  5.000e+04 -1.000e+04  6.000e+01 -5.000e+03  1.500e+04  5.000e+03\n",
      " -7.500e+03 -1.000e+00  1.000e+00 -1.200e+02 -1.001e+03]\n",
      "[1]\n",
      "['Replace' 'Canceled' 'Fill' 'New' 'Partial Fill']\n"
     ]
    }
   ],
   "source": [
    "col=[ 'buy_sell', \n",
    "       'underlying_settle_method', 'exchange_code', 'account',\n",
    "       'clearing_account', 'legal_entity', 'exec_type', 'exec_id',\n",
    "       'execution_time', 'trans_type', 'execution_time_only_morning',\n",
    "       'execution_time_only_evening', 'filled_quantity', 'open_quantity',\n",
    "       'order_quantity', 'option_type', 'order_type', 'order_state', 'price',\n",
    "       'last_price', 'strike_price', 'trader', 'trader_ref', 'exchange',\n",
    "       'order_group_quantity', 'version_num', 'order_set_status']\n",
    "for i in col:\n",
    "    print(df[i].unique())"
   ]
  },
  {
   "cell_type": "code",
   "execution_count": 44,
   "id": "bd6a4fb4",
   "metadata": {
    "scrolled": false
   },
   "outputs": [
    {
     "data": {
      "text/plain": [
       "id                             3389\n",
       "k3id                           3389\n",
       "clearing_order_id               557\n",
       "order_id                        659\n",
       "buy_sell                          2\n",
       "mmy                               0\n",
       "underlying_settle_method          2\n",
       "exchange_code                    65\n",
       "account                           1\n",
       "clearing_account                  5\n",
       "legal_entity                      3\n",
       "exec_type                         5\n",
       "exec_id                        2028\n",
       "execution_time                 1031\n",
       "trans_type                        1\n",
       "execution_time_only_morning      19\n",
       "execution_time_only_evening     318\n",
       "filled_quantity                  38\n",
       "open_quantity                    87\n",
       "order_quantity                   59\n",
       "option_type                       0\n",
       "order_type                        1\n",
       "order_state                       4\n",
       "price                           343\n",
       "last_price                       63\n",
       "strike_price                      0\n",
       "trader                            3\n",
       "trader_ref                        3\n",
       "exchange                          5\n",
       "order_group_quantity             88\n",
       "version_num                       1\n",
       "order_set_status                  5\n",
       "dtype: int64"
      ]
     },
     "execution_count": 44,
     "metadata": {},
     "output_type": "execute_result"
    }
   ],
   "source": [
    "df.nunique()"
   ]
  },
  {
   "cell_type": "code",
   "execution_count": 45,
   "id": "127ce3ba",
   "metadata": {
    "scrolled": true
   },
   "outputs": [
    {
     "data": {
      "text/plain": [
       "Index(['id', 'k3id', 'clearing_order_id', 'order_id', 'buy_sell', 'mmy',\n",
       "       'underlying_settle_method', 'exchange_code', 'account',\n",
       "       'clearing_account', 'legal_entity', 'exec_type', 'exec_id',\n",
       "       'execution_time', 'trans_type', 'execution_time_only_morning',\n",
       "       'execution_time_only_evening', 'filled_quantity', 'open_quantity',\n",
       "       'order_quantity', 'option_type', 'order_type', 'order_state', 'price',\n",
       "       'last_price', 'strike_price', 'trader', 'trader_ref', 'exchange',\n",
       "       'order_group_quantity', 'version_num', 'order_set_status'],\n",
       "      dtype='object')"
      ]
     },
     "execution_count": 45,
     "metadata": {},
     "output_type": "execute_result"
    }
   ],
   "source": [
    "df.columns"
   ]
  },
  {
   "cell_type": "code",
   "execution_count": 46,
   "id": "7859f2f2",
   "metadata": {},
   "outputs": [
    {
     "data": {
      "text/plain": [
       "array(['Replace', 'Canceled', 'Partial Fill', 'Fill', 'New'], dtype=object)"
      ]
     },
     "execution_count": 46,
     "metadata": {},
     "output_type": "execute_result"
    }
   ],
   "source": [
    "df['exec_type'].unique()"
   ]
  },
  {
   "cell_type": "code",
   "execution_count": 47,
   "id": "9c5a88a5",
   "metadata": {},
   "outputs": [
    {
     "data": {
      "text/plain": [
       "array(['Replace', 'Canceled', 'Fill', 'New', 'Partial Fill'], dtype=object)"
      ]
     },
     "execution_count": 47,
     "metadata": {},
     "output_type": "execute_result"
    }
   ],
   "source": [
    "df['order_set_status'].unique()"
   ]
  },
  {
   "cell_type": "code",
   "execution_count": 48,
   "id": "6694eaed",
   "metadata": {
    "scrolled": true
   },
   "outputs": [
    {
     "data": {
      "text/plain": [
       "array(['Inactive', 'Withdrawn', 'Active', 'Consummated'], dtype=object)"
      ]
     },
     "execution_count": 48,
     "metadata": {},
     "output_type": "execute_result"
    }
   ],
   "source": [
    "df['order_state'].unique()"
   ]
  },
  {
   "cell_type": "code",
   "execution_count": 49,
   "id": "f074232e",
   "metadata": {},
   "outputs": [
    {
     "data": {
      "text/plain": [
       "array(['IFED', 'IFEU', 'IFLX', 'IEPA', nan, 'IFUS'], dtype=object)"
      ]
     },
     "execution_count": 49,
     "metadata": {},
     "output_type": "execute_result"
    }
   ],
   "source": [
    "df['exchange'].unique()"
   ]
  },
  {
   "cell_type": "code",
   "execution_count": 50,
   "id": "1dff39c7",
   "metadata": {
    "scrolled": true
   },
   "outputs": [
    {
     "data": {
      "text/plain": [
       "array(['National Fuels Corp Ottawa', 'National Fuels Canada',\n",
       "       'National Fuels Corp'], dtype=object)"
      ]
     },
     "execution_count": 50,
     "metadata": {},
     "output_type": "execute_result"
    }
   ],
   "source": [
    "df['legal_entity'].unique()"
   ]
  },
  {
   "cell_type": "code",
   "execution_count": 51,
   "id": "685a742b",
   "metadata": {
    "scrolled": true
   },
   "outputs": [
    {
     "data": {
      "text/plain": [
       "array(['John Obero Smith', 'Xylene Rhegis', 'Gyllenhal Sons'],\n",
       "      dtype=object)"
      ]
     },
     "execution_count": 51,
     "metadata": {},
     "output_type": "execute_result"
    }
   ],
   "source": [
    "df['trader'].unique()"
   ]
  },
  {
   "cell_type": "code",
   "execution_count": 52,
   "id": "977a1373",
   "metadata": {},
   "outputs": [
    {
     "data": {
      "text/plain": [
       "array([nan, 'Non-segregated'], dtype=object)"
      ]
     },
     "execution_count": 52,
     "metadata": {},
     "output_type": "execute_result"
    }
   ],
   "source": [
    "df['account'].unique()"
   ]
  },
  {
   "cell_type": "code",
   "execution_count": 53,
   "id": "a7f324d5",
   "metadata": {},
   "outputs": [
    {
     "data": {
      "text/plain": [
       "array(['AC0008', 'AC0105', 'AC0025', 'AC0120', 'AC0000'], dtype=object)"
      ]
     },
     "execution_count": 53,
     "metadata": {},
     "output_type": "execute_result"
    }
   ],
   "source": [
    "df['clearing_account'].unique()"
   ]
  },
  {
   "cell_type": "code",
   "execution_count": 54,
   "id": "ac8fbad2",
   "metadata": {},
   "outputs": [
    {
     "data": {
      "text/html": [
       "<div>\n",
       "<style scoped>\n",
       "    .dataframe tbody tr th:only-of-type {\n",
       "        vertical-align: middle;\n",
       "    }\n",
       "\n",
       "    .dataframe tbody tr th {\n",
       "        vertical-align: top;\n",
       "    }\n",
       "\n",
       "    .dataframe thead th {\n",
       "        text-align: right;\n",
       "    }\n",
       "</style>\n",
       "<table border=\"1\" class=\"dataframe\">\n",
       "  <thead>\n",
       "    <tr style=\"text-align: right;\">\n",
       "      <th></th>\n",
       "      <th>id</th>\n",
       "      <th>k3id</th>\n",
       "      <th>clearing_order_id</th>\n",
       "      <th>order_id</th>\n",
       "      <th>buy_sell</th>\n",
       "      <th>mmy</th>\n",
       "      <th>underlying_settle_method</th>\n",
       "      <th>exchange_code</th>\n",
       "      <th>account</th>\n",
       "      <th>clearing_account</th>\n",
       "      <th>...</th>\n",
       "      <th>order_state</th>\n",
       "      <th>price</th>\n",
       "      <th>last_price</th>\n",
       "      <th>strike_price</th>\n",
       "      <th>trader</th>\n",
       "      <th>trader_ref</th>\n",
       "      <th>exchange</th>\n",
       "      <th>order_group_quantity</th>\n",
       "      <th>version_num</th>\n",
       "      <th>order_set_status</th>\n",
       "    </tr>\n",
       "  </thead>\n",
       "  <tbody>\n",
       "    <tr>\n",
       "      <th>731</th>\n",
       "      <td>2804088</td>\n",
       "      <td>2804086</td>\n",
       "      <td>322567048</td>\n",
       "      <td>5007479</td>\n",
       "      <td>Buy</td>\n",
       "      <td>NaN</td>\n",
       "      <td>Fin</td>\n",
       "      <td>N</td>\n",
       "      <td>NaN</td>\n",
       "      <td>AC0025</td>\n",
       "      <td>...</td>\n",
       "      <td>Withdrawn</td>\n",
       "      <td>1.8072</td>\n",
       "      <td>0</td>\n",
       "      <td>NaN</td>\n",
       "      <td>Gyllenhal Sons</td>\n",
       "      <td>gs_nfc</td>\n",
       "      <td>IFEU</td>\n",
       "      <td>NaN</td>\n",
       "      <td>1</td>\n",
       "      <td>Canceled</td>\n",
       "    </tr>\n",
       "    <tr>\n",
       "      <th>1128</th>\n",
       "      <td>2793139</td>\n",
       "      <td>2793137</td>\n",
       "      <td>322567048</td>\n",
       "      <td>5007479</td>\n",
       "      <td>Buy</td>\n",
       "      <td>NaN</td>\n",
       "      <td>Fin</td>\n",
       "      <td>N</td>\n",
       "      <td>NaN</td>\n",
       "      <td>AC0025</td>\n",
       "      <td>...</td>\n",
       "      <td>Inactive</td>\n",
       "      <td>1.8072</td>\n",
       "      <td>0</td>\n",
       "      <td>NaN</td>\n",
       "      <td>Gyllenhal Sons</td>\n",
       "      <td>gs_nfc</td>\n",
       "      <td>IFEU</td>\n",
       "      <td>NaN</td>\n",
       "      <td>1</td>\n",
       "      <td>Canceled</td>\n",
       "    </tr>\n",
       "    <tr>\n",
       "      <th>1129</th>\n",
       "      <td>2804064</td>\n",
       "      <td>2804062</td>\n",
       "      <td>322567048</td>\n",
       "      <td>5007479</td>\n",
       "      <td>Buy</td>\n",
       "      <td>NaN</td>\n",
       "      <td>Fin</td>\n",
       "      <td>N</td>\n",
       "      <td>NaN</td>\n",
       "      <td>AC0025</td>\n",
       "      <td>...</td>\n",
       "      <td>Inactive</td>\n",
       "      <td>1.8072</td>\n",
       "      <td>0</td>\n",
       "      <td>NaN</td>\n",
       "      <td>Gyllenhal Sons</td>\n",
       "      <td>gs_nfc</td>\n",
       "      <td>IFEU</td>\n",
       "      <td>NaN</td>\n",
       "      <td>1</td>\n",
       "      <td>Canceled</td>\n",
       "    </tr>\n",
       "    <tr>\n",
       "      <th>1130</th>\n",
       "      <td>2804042</td>\n",
       "      <td>2804040</td>\n",
       "      <td>322567048</td>\n",
       "      <td>5007479</td>\n",
       "      <td>Buy</td>\n",
       "      <td>NaN</td>\n",
       "      <td>Fin</td>\n",
       "      <td>N</td>\n",
       "      <td>NaN</td>\n",
       "      <td>AC0025</td>\n",
       "      <td>...</td>\n",
       "      <td>Inactive</td>\n",
       "      <td>1.8072</td>\n",
       "      <td>0</td>\n",
       "      <td>NaN</td>\n",
       "      <td>Gyllenhal Sons</td>\n",
       "      <td>gs_nfc</td>\n",
       "      <td>IFEU</td>\n",
       "      <td>NaN</td>\n",
       "      <td>1</td>\n",
       "      <td>Canceled</td>\n",
       "    </tr>\n",
       "    <tr>\n",
       "      <th>3188</th>\n",
       "      <td>2793048</td>\n",
       "      <td>2793046</td>\n",
       "      <td>322567048</td>\n",
       "      <td>5007479</td>\n",
       "      <td>Buy</td>\n",
       "      <td>NaN</td>\n",
       "      <td>Fin</td>\n",
       "      <td>N</td>\n",
       "      <td>NaN</td>\n",
       "      <td>AC0025</td>\n",
       "      <td>...</td>\n",
       "      <td>Active</td>\n",
       "      <td>1.8072</td>\n",
       "      <td>0</td>\n",
       "      <td>NaN</td>\n",
       "      <td>Gyllenhal Sons</td>\n",
       "      <td>gs_nfc</td>\n",
       "      <td>IFEU</td>\n",
       "      <td>7.0</td>\n",
       "      <td>1</td>\n",
       "      <td>Canceled</td>\n",
       "    </tr>\n",
       "  </tbody>\n",
       "</table>\n",
       "<p>5 rows × 32 columns</p>\n",
       "</div>"
      ],
      "text/plain": [
       "           id     k3id  clearing_order_id  order_id buy_sell  mmy  \\\n",
       "731   2804088  2804086          322567048   5007479      Buy  NaN   \n",
       "1128  2793139  2793137          322567048   5007479      Buy  NaN   \n",
       "1129  2804064  2804062          322567048   5007479      Buy  NaN   \n",
       "1130  2804042  2804040          322567048   5007479      Buy  NaN   \n",
       "3188  2793048  2793046          322567048   5007479      Buy  NaN   \n",
       "\n",
       "     underlying_settle_method exchange_code account clearing_account  ...  \\\n",
       "731                       Fin             N     NaN           AC0025  ...   \n",
       "1128                      Fin             N     NaN           AC0025  ...   \n",
       "1129                      Fin             N     NaN           AC0025  ...   \n",
       "1130                      Fin             N     NaN           AC0025  ...   \n",
       "3188                      Fin             N     NaN           AC0025  ...   \n",
       "\n",
       "     order_state   price last_price strike_price          trader  trader_ref  \\\n",
       "731    Withdrawn  1.8072          0          NaN  Gyllenhal Sons      gs_nfc   \n",
       "1128    Inactive  1.8072          0          NaN  Gyllenhal Sons      gs_nfc   \n",
       "1129    Inactive  1.8072          0          NaN  Gyllenhal Sons      gs_nfc   \n",
       "1130    Inactive  1.8072          0          NaN  Gyllenhal Sons      gs_nfc   \n",
       "3188      Active  1.8072          0          NaN  Gyllenhal Sons      gs_nfc   \n",
       "\n",
       "      exchange  order_group_quantity  version_num  order_set_status  \n",
       "731       IFEU                   NaN            1          Canceled  \n",
       "1128      IFEU                   NaN            1          Canceled  \n",
       "1129      IFEU                   NaN            1          Canceled  \n",
       "1130      IFEU                   NaN            1          Canceled  \n",
       "3188      IFEU                   7.0            1          Canceled  \n",
       "\n",
       "[5 rows x 32 columns]"
      ]
     },
     "execution_count": 54,
     "metadata": {},
     "output_type": "execute_result"
    }
   ],
   "source": [
    "df[df['order_id']==5007479]"
   ]
  },
  {
   "cell_type": "code",
   "execution_count": null,
   "id": "6c24dca7",
   "metadata": {},
   "outputs": [],
   "source": []
  },
  {
   "cell_type": "code",
   "execution_count": 55,
   "id": "2f8bc9a2",
   "metadata": {},
   "outputs": [
    {
     "data": {
      "text/plain": [
       "(3628, 8)"
      ]
     },
     "execution_count": 55,
     "metadata": {},
     "output_type": "execute_result"
    }
   ],
   "source": [
    "#find orders which are in changed from new to cancled state\n",
    "col=['order_id','exec_type','trader','exchange_code','legal_entity','execution_time','order_quantity','clearing_account']\n",
    "df1=df[col]\n",
    "df1.shape"
   ]
  },
  {
   "cell_type": "code",
   "execution_count": 56,
   "id": "ffd087c0",
   "metadata": {
    "scrolled": true
   },
   "outputs": [
    {
     "data": {
      "text/html": [
       "<div>\n",
       "<style scoped>\n",
       "    .dataframe tbody tr th:only-of-type {\n",
       "        vertical-align: middle;\n",
       "    }\n",
       "\n",
       "    .dataframe tbody tr th {\n",
       "        vertical-align: top;\n",
       "    }\n",
       "\n",
       "    .dataframe thead th {\n",
       "        text-align: right;\n",
       "    }\n",
       "</style>\n",
       "<table border=\"1\" class=\"dataframe\">\n",
       "  <thead>\n",
       "    <tr style=\"text-align: right;\">\n",
       "      <th></th>\n",
       "      <th>order_id</th>\n",
       "      <th>exec_type</th>\n",
       "      <th>trader</th>\n",
       "      <th>exchange_code</th>\n",
       "      <th>legal_entity</th>\n",
       "      <th>execution_time</th>\n",
       "      <th>order_quantity</th>\n",
       "      <th>clearing_account</th>\n",
       "    </tr>\n",
       "  </thead>\n",
       "  <tbody>\n",
       "    <tr>\n",
       "      <th>0</th>\n",
       "      <td>2000124</td>\n",
       "      <td>Replace</td>\n",
       "      <td>John Obero Smith</td>\n",
       "      <td>GUU</td>\n",
       "      <td>National Fuels Corp Ottawa</td>\n",
       "      <td>12/5/2022 1:35</td>\n",
       "      <td>45</td>\n",
       "      <td>AC0008</td>\n",
       "    </tr>\n",
       "    <tr>\n",
       "      <th>1</th>\n",
       "      <td>2000124</td>\n",
       "      <td>Replace</td>\n",
       "      <td>John Obero Smith</td>\n",
       "      <td>GUU</td>\n",
       "      <td>National Fuels Corp Ottawa</td>\n",
       "      <td>12/5/2022 1:35</td>\n",
       "      <td>45</td>\n",
       "      <td>AC0008</td>\n",
       "    </tr>\n",
       "    <tr>\n",
       "      <th>2</th>\n",
       "      <td>2000124</td>\n",
       "      <td>Replace</td>\n",
       "      <td>John Obero Smith</td>\n",
       "      <td>GUU</td>\n",
       "      <td>National Fuels Corp Ottawa</td>\n",
       "      <td>13-05-2022 1:35:00 AM</td>\n",
       "      <td>45</td>\n",
       "      <td>AC0008</td>\n",
       "    </tr>\n",
       "    <tr>\n",
       "      <th>3</th>\n",
       "      <td>2000124</td>\n",
       "      <td>Replace</td>\n",
       "      <td>John Obero Smith</td>\n",
       "      <td>GUU</td>\n",
       "      <td>National Fuels Corp Ottawa</td>\n",
       "      <td>13-05-2022 1:35:00 AM</td>\n",
       "      <td>45</td>\n",
       "      <td>AC0008</td>\n",
       "    </tr>\n",
       "    <tr>\n",
       "      <th>4</th>\n",
       "      <td>2000121</td>\n",
       "      <td>Replace</td>\n",
       "      <td>John Obero Smith</td>\n",
       "      <td>GUU</td>\n",
       "      <td>National Fuels Corp Ottawa</td>\n",
       "      <td>17-05-2022 1:35:00 AM</td>\n",
       "      <td>45</td>\n",
       "      <td>AC0008</td>\n",
       "    </tr>\n",
       "  </tbody>\n",
       "</table>\n",
       "</div>"
      ],
      "text/plain": [
       "   order_id exec_type            trader exchange_code  \\\n",
       "0   2000124   Replace  John Obero Smith           GUU   \n",
       "1   2000124   Replace  John Obero Smith           GUU   \n",
       "2   2000124   Replace  John Obero Smith           GUU   \n",
       "3   2000124   Replace  John Obero Smith           GUU   \n",
       "4   2000121   Replace  John Obero Smith           GUU   \n",
       "\n",
       "                 legal_entity         execution_time  order_quantity  \\\n",
       "0  National Fuels Corp Ottawa         12/5/2022 1:35              45   \n",
       "1  National Fuels Corp Ottawa         12/5/2022 1:35              45   \n",
       "2  National Fuels Corp Ottawa  13-05-2022 1:35:00 AM              45   \n",
       "3  National Fuels Corp Ottawa  13-05-2022 1:35:00 AM              45   \n",
       "4  National Fuels Corp Ottawa  17-05-2022 1:35:00 AM              45   \n",
       "\n",
       "  clearing_account  \n",
       "0           AC0008  \n",
       "1           AC0008  \n",
       "2           AC0008  \n",
       "3           AC0008  \n",
       "4           AC0008  "
      ]
     },
     "execution_count": 56,
     "metadata": {},
     "output_type": "execute_result"
    }
   ],
   "source": [
    "df1.head()"
   ]
  },
  {
   "cell_type": "code",
   "execution_count": 57,
   "id": "4e884af5",
   "metadata": {},
   "outputs": [
    {
     "data": {
      "text/plain": [
       "(623, 8)"
      ]
     },
     "execution_count": 57,
     "metadata": {},
     "output_type": "execute_result"
    }
   ],
   "source": [
    "df2=df1[df1['exec_type']=='New']\n",
    "df2.shape"
   ]
  },
  {
   "cell_type": "code",
   "execution_count": 58,
   "id": "26747693",
   "metadata": {},
   "outputs": [
    {
     "data": {
      "text/html": [
       "<div>\n",
       "<style scoped>\n",
       "    .dataframe tbody tr th:only-of-type {\n",
       "        vertical-align: middle;\n",
       "    }\n",
       "\n",
       "    .dataframe tbody tr th {\n",
       "        vertical-align: top;\n",
       "    }\n",
       "\n",
       "    .dataframe thead th {\n",
       "        text-align: right;\n",
       "    }\n",
       "</style>\n",
       "<table border=\"1\" class=\"dataframe\">\n",
       "  <thead>\n",
       "    <tr style=\"text-align: right;\">\n",
       "      <th></th>\n",
       "      <th>order_id</th>\n",
       "      <th>exec_type</th>\n",
       "      <th>trader</th>\n",
       "      <th>exchange_code</th>\n",
       "      <th>legal_entity</th>\n",
       "      <th>execution_time</th>\n",
       "      <th>order_quantity</th>\n",
       "      <th>clearing_account</th>\n",
       "    </tr>\n",
       "  </thead>\n",
       "  <tbody>\n",
       "    <tr>\n",
       "      <th>3005</th>\n",
       "      <td>50000140</td>\n",
       "      <td>New</td>\n",
       "      <td>Gyllenhal Sons</td>\n",
       "      <td>NaN</td>\n",
       "      <td>National Fuels Corp</td>\n",
       "      <td>21-07-2021 3:20:41 PM</td>\n",
       "      <td>500</td>\n",
       "      <td>AC0000</td>\n",
       "    </tr>\n",
       "    <tr>\n",
       "      <th>3006</th>\n",
       "      <td>2210531</td>\n",
       "      <td>New</td>\n",
       "      <td>Gyllenhal Sons</td>\n",
       "      <td>NaN</td>\n",
       "      <td>National Fuels Corp</td>\n",
       "      <td>1/11/2021 13:32</td>\n",
       "      <td>10</td>\n",
       "      <td>AC0120</td>\n",
       "    </tr>\n",
       "    <tr>\n",
       "      <th>3007</th>\n",
       "      <td>2209313</td>\n",
       "      <td>New</td>\n",
       "      <td>Gyllenhal Sons</td>\n",
       "      <td>NaN</td>\n",
       "      <td>National Fuels Canada</td>\n",
       "      <td>13-05-2021 3:52:20 PM</td>\n",
       "      <td>4</td>\n",
       "      <td>AC0120</td>\n",
       "    </tr>\n",
       "    <tr>\n",
       "      <th>3008</th>\n",
       "      <td>50000132</td>\n",
       "      <td>New</td>\n",
       "      <td>Gyllenhal Sons</td>\n",
       "      <td>NaN</td>\n",
       "      <td>National Fuels Corp</td>\n",
       "      <td>21-07-2021 3:19:50 PM</td>\n",
       "      <td>500</td>\n",
       "      <td>AC0000</td>\n",
       "    </tr>\n",
       "    <tr>\n",
       "      <th>3009</th>\n",
       "      <td>2210530</td>\n",
       "      <td>New</td>\n",
       "      <td>Gyllenhal Sons</td>\n",
       "      <td>NaN</td>\n",
       "      <td>National Fuels Corp</td>\n",
       "      <td>1/11/2021 13:32</td>\n",
       "      <td>1000</td>\n",
       "      <td>AC0120</td>\n",
       "    </tr>\n",
       "  </tbody>\n",
       "</table>\n",
       "</div>"
      ],
      "text/plain": [
       "      order_id exec_type          trader exchange_code           legal_entity  \\\n",
       "3005  50000140       New  Gyllenhal Sons           NaN    National Fuels Corp   \n",
       "3006   2210531       New  Gyllenhal Sons           NaN    National Fuels Corp   \n",
       "3007   2209313       New  Gyllenhal Sons           NaN  National Fuels Canada   \n",
       "3008  50000132       New  Gyllenhal Sons           NaN    National Fuels Corp   \n",
       "3009   2210530       New  Gyllenhal Sons           NaN    National Fuels Corp   \n",
       "\n",
       "             execution_time  order_quantity clearing_account  \n",
       "3005  21-07-2021 3:20:41 PM             500           AC0000  \n",
       "3006        1/11/2021 13:32              10           AC0120  \n",
       "3007  13-05-2021 3:52:20 PM               4           AC0120  \n",
       "3008  21-07-2021 3:19:50 PM             500           AC0000  \n",
       "3009        1/11/2021 13:32            1000           AC0120  "
      ]
     },
     "execution_count": 58,
     "metadata": {},
     "output_type": "execute_result"
    }
   ],
   "source": [
    "df2.head()"
   ]
  },
  {
   "cell_type": "code",
   "execution_count": 59,
   "id": "d96ebe5e",
   "metadata": {},
   "outputs": [
    {
     "data": {
      "text/plain": [
       "(484, 8)"
      ]
     },
     "execution_count": 59,
     "metadata": {},
     "output_type": "execute_result"
    }
   ],
   "source": [
    "df3=df1[df1['exec_type']=='Canceled']\n",
    "df3.shape"
   ]
  },
  {
   "cell_type": "code",
   "execution_count": 60,
   "id": "50ae43fa",
   "metadata": {},
   "outputs": [
    {
     "data": {
      "text/html": [
       "<div>\n",
       "<style scoped>\n",
       "    .dataframe tbody tr th:only-of-type {\n",
       "        vertical-align: middle;\n",
       "    }\n",
       "\n",
       "    .dataframe tbody tr th {\n",
       "        vertical-align: top;\n",
       "    }\n",
       "\n",
       "    .dataframe thead th {\n",
       "        text-align: right;\n",
       "    }\n",
       "</style>\n",
       "<table border=\"1\" class=\"dataframe\">\n",
       "  <thead>\n",
       "    <tr style=\"text-align: right;\">\n",
       "      <th></th>\n",
       "      <th>order_id</th>\n",
       "      <th>exec_type</th>\n",
       "      <th>trader</th>\n",
       "      <th>exchange_code</th>\n",
       "      <th>legal_entity</th>\n",
       "      <th>execution_time</th>\n",
       "      <th>order_quantity</th>\n",
       "      <th>clearing_account</th>\n",
       "    </tr>\n",
       "  </thead>\n",
       "  <tbody>\n",
       "    <tr>\n",
       "      <th>703</th>\n",
       "      <td>2000122</td>\n",
       "      <td>Canceled</td>\n",
       "      <td>John Obero Smith</td>\n",
       "      <td>PMI</td>\n",
       "      <td>National Fuels Corp Ottawa</td>\n",
       "      <td>29-04-2022 11:11:00 AM</td>\n",
       "      <td>50</td>\n",
       "      <td>AC0105</td>\n",
       "    </tr>\n",
       "    <tr>\n",
       "      <th>704</th>\n",
       "      <td>2000109</td>\n",
       "      <td>Canceled</td>\n",
       "      <td>John Obero Smith</td>\n",
       "      <td>ERK</td>\n",
       "      <td>National Fuels Corp Ottawa</td>\n",
       "      <td>29-04-2022 11:11:00 AM</td>\n",
       "      <td>1</td>\n",
       "      <td>AC0105</td>\n",
       "    </tr>\n",
       "    <tr>\n",
       "      <th>705</th>\n",
       "      <td>2000110</td>\n",
       "      <td>Canceled</td>\n",
       "      <td>John Obero Smith</td>\n",
       "      <td>ERK</td>\n",
       "      <td>National Fuels Corp Ottawa</td>\n",
       "      <td>29-04-2022 11:11:00 AM</td>\n",
       "      <td>1</td>\n",
       "      <td>AC0105</td>\n",
       "    </tr>\n",
       "    <tr>\n",
       "      <th>706</th>\n",
       "      <td>2000117</td>\n",
       "      <td>Canceled</td>\n",
       "      <td>John Obero Smith</td>\n",
       "      <td>PMI</td>\n",
       "      <td>National Fuels Corp Ottawa</td>\n",
       "      <td>29-04-2022 11:11:00 AM</td>\n",
       "      <td>50</td>\n",
       "      <td>AC0105</td>\n",
       "    </tr>\n",
       "    <tr>\n",
       "      <th>707</th>\n",
       "      <td>2000107</td>\n",
       "      <td>Canceled</td>\n",
       "      <td>John Obero Smith</td>\n",
       "      <td>ERK</td>\n",
       "      <td>National Fuels Corp Ottawa</td>\n",
       "      <td>29-04-2022 11:11:00 AM</td>\n",
       "      <td>1</td>\n",
       "      <td>AC0105</td>\n",
       "    </tr>\n",
       "  </tbody>\n",
       "</table>\n",
       "</div>"
      ],
      "text/plain": [
       "     order_id exec_type            trader exchange_code  \\\n",
       "703   2000122  Canceled  John Obero Smith           PMI   \n",
       "704   2000109  Canceled  John Obero Smith           ERK   \n",
       "705   2000110  Canceled  John Obero Smith           ERK   \n",
       "706   2000117  Canceled  John Obero Smith           PMI   \n",
       "707   2000107  Canceled  John Obero Smith           ERK   \n",
       "\n",
       "                   legal_entity          execution_time  order_quantity  \\\n",
       "703  National Fuels Corp Ottawa  29-04-2022 11:11:00 AM              50   \n",
       "704  National Fuels Corp Ottawa  29-04-2022 11:11:00 AM               1   \n",
       "705  National Fuels Corp Ottawa  29-04-2022 11:11:00 AM               1   \n",
       "706  National Fuels Corp Ottawa  29-04-2022 11:11:00 AM              50   \n",
       "707  National Fuels Corp Ottawa  29-04-2022 11:11:00 AM               1   \n",
       "\n",
       "    clearing_account  \n",
       "703           AC0105  \n",
       "704           AC0105  \n",
       "705           AC0105  \n",
       "706           AC0105  \n",
       "707           AC0105  "
      ]
     },
     "execution_count": 60,
     "metadata": {},
     "output_type": "execute_result"
    }
   ],
   "source": [
    "df3.head()"
   ]
  },
  {
   "cell_type": "code",
   "execution_count": 61,
   "id": "4eba50cf",
   "metadata": {},
   "outputs": [],
   "source": [
    "df3=df3.drop(columns=['trader','exchange_code','legal_entity','order_quantity','clearing_account'], axis = 1)\n",
    "df4 = pd.merge(df2,df3,on='order_id')"
   ]
  },
  {
   "cell_type": "code",
   "execution_count": 62,
   "id": "1033aada",
   "metadata": {},
   "outputs": [
    {
     "name": "stdout",
     "output_type": "stream",
     "text": [
      "<class 'pandas.core.frame.DataFrame'>\n",
      "Int64Index: 236 entries, 0 to 235\n",
      "Data columns (total 10 columns):\n",
      " #   Column            Non-Null Count  Dtype \n",
      "---  ------            --------------  ----- \n",
      " 0   order_id          236 non-null    int64 \n",
      " 1   exec_type_x       236 non-null    object\n",
      " 2   trader            236 non-null    object\n",
      " 3   exchange_code     225 non-null    object\n",
      " 4   legal_entity      236 non-null    object\n",
      " 5   execution_time_x  236 non-null    object\n",
      " 6   order_quantity    236 non-null    int64 \n",
      " 7   clearing_account  236 non-null    object\n",
      " 8   exec_type_y       236 non-null    object\n",
      " 9   execution_time_y  236 non-null    object\n",
      "dtypes: int64(2), object(8)\n",
      "memory usage: 20.3+ KB\n"
     ]
    }
   ],
   "source": [
    "df4.info()"
   ]
  },
  {
   "cell_type": "code",
   "execution_count": 63,
   "id": "60896b16",
   "metadata": {},
   "outputs": [
    {
     "data": {
      "text/plain": [
       "143"
      ]
     },
     "execution_count": 63,
     "metadata": {},
     "output_type": "execute_result"
    }
   ],
   "source": [
    "df4['order_id'].nunique()"
   ]
  },
  {
   "cell_type": "code",
   "execution_count": 64,
   "id": "7e43325d",
   "metadata": {},
   "outputs": [],
   "source": [
    "df4=df4.drop_duplicates(subset=['order_id'])"
   ]
  },
  {
   "cell_type": "code",
   "execution_count": 65,
   "id": "8e2910d6",
   "metadata": {},
   "outputs": [
    {
     "data": {
      "text/html": [
       "<div>\n",
       "<style scoped>\n",
       "    .dataframe tbody tr th:only-of-type {\n",
       "        vertical-align: middle;\n",
       "    }\n",
       "\n",
       "    .dataframe tbody tr th {\n",
       "        vertical-align: top;\n",
       "    }\n",
       "\n",
       "    .dataframe thead th {\n",
       "        text-align: right;\n",
       "    }\n",
       "</style>\n",
       "<table border=\"1\" class=\"dataframe\">\n",
       "  <thead>\n",
       "    <tr style=\"text-align: right;\">\n",
       "      <th></th>\n",
       "      <th>order_id</th>\n",
       "      <th>exec_type_x</th>\n",
       "      <th>trader</th>\n",
       "      <th>exchange_code</th>\n",
       "      <th>legal_entity</th>\n",
       "      <th>execution_time_x</th>\n",
       "      <th>order_quantity</th>\n",
       "      <th>clearing_account</th>\n",
       "      <th>exec_type_y</th>\n",
       "      <th>execution_time_y</th>\n",
       "    </tr>\n",
       "  </thead>\n",
       "  <tbody>\n",
       "    <tr>\n",
       "      <th>0</th>\n",
       "      <td>2210530</td>\n",
       "      <td>New</td>\n",
       "      <td>Gyllenhal Sons</td>\n",
       "      <td>NaN</td>\n",
       "      <td>National Fuels Corp</td>\n",
       "      <td>1/11/2021 13:32</td>\n",
       "      <td>1000</td>\n",
       "      <td>AC0120</td>\n",
       "      <td>Canceled</td>\n",
       "      <td>1/11/2021 13:33</td>\n",
       "    </tr>\n",
       "    <tr>\n",
       "      <th>1</th>\n",
       "      <td>7000370</td>\n",
       "      <td>New</td>\n",
       "      <td>Gyllenhal Sons</td>\n",
       "      <td>SB</td>\n",
       "      <td>National Fuels Corp</td>\n",
       "      <td>15-06-2021 5:43:12 PM</td>\n",
       "      <td>100</td>\n",
       "      <td>AC0120</td>\n",
       "      <td>Canceled</td>\n",
       "      <td>15-06-2021 7:14:36 PM</td>\n",
       "    </tr>\n",
       "    <tr>\n",
       "      <th>3</th>\n",
       "      <td>2209334</td>\n",
       "      <td>New</td>\n",
       "      <td>Gyllenhal Sons</td>\n",
       "      <td>NaN</td>\n",
       "      <td>National Fuels Canada</td>\n",
       "      <td>12/5/2021 16:09</td>\n",
       "      <td>5</td>\n",
       "      <td>AC0120</td>\n",
       "      <td>Canceled</td>\n",
       "      <td>15-06-2021 7:14:36 PM</td>\n",
       "    </tr>\n",
       "    <tr>\n",
       "      <th>7</th>\n",
       "      <td>60000117</td>\n",
       "      <td>New</td>\n",
       "      <td>Gyllenhal Sons</td>\n",
       "      <td>C</td>\n",
       "      <td>National Fuels Corp</td>\n",
       "      <td>8/7/2021 18:27</td>\n",
       "      <td>100</td>\n",
       "      <td>AC0120</td>\n",
       "      <td>Canceled</td>\n",
       "      <td>8/7/2021 22:00</td>\n",
       "    </tr>\n",
       "    <tr>\n",
       "      <th>8</th>\n",
       "      <td>50000131</td>\n",
       "      <td>New</td>\n",
       "      <td>Gyllenhal Sons</td>\n",
       "      <td>NaN</td>\n",
       "      <td>National Fuels Corp</td>\n",
       "      <td>21-07-2021 3:19:12 PM</td>\n",
       "      <td>200</td>\n",
       "      <td>AC0000</td>\n",
       "      <td>Canceled</td>\n",
       "      <td>21-07-2021 3:19:42 PM</td>\n",
       "    </tr>\n",
       "  </tbody>\n",
       "</table>\n",
       "</div>"
      ],
      "text/plain": [
       "   order_id exec_type_x          trader exchange_code           legal_entity  \\\n",
       "0   2210530         New  Gyllenhal Sons           NaN    National Fuels Corp   \n",
       "1   7000370         New  Gyllenhal Sons            SB    National Fuels Corp   \n",
       "3   2209334         New  Gyllenhal Sons           NaN  National Fuels Canada   \n",
       "7  60000117         New  Gyllenhal Sons             C    National Fuels Corp   \n",
       "8  50000131         New  Gyllenhal Sons           NaN    National Fuels Corp   \n",
       "\n",
       "        execution_time_x  order_quantity clearing_account exec_type_y  \\\n",
       "0        1/11/2021 13:32            1000           AC0120    Canceled   \n",
       "1  15-06-2021 5:43:12 PM             100           AC0120    Canceled   \n",
       "3        12/5/2021 16:09               5           AC0120    Canceled   \n",
       "7         8/7/2021 18:27             100           AC0120    Canceled   \n",
       "8  21-07-2021 3:19:12 PM             200           AC0000    Canceled   \n",
       "\n",
       "        execution_time_y  \n",
       "0        1/11/2021 13:33  \n",
       "1  15-06-2021 7:14:36 PM  \n",
       "3  15-06-2021 7:14:36 PM  \n",
       "7         8/7/2021 22:00  \n",
       "8  21-07-2021 3:19:42 PM  "
      ]
     },
     "execution_count": 65,
     "metadata": {},
     "output_type": "execute_result"
    }
   ],
   "source": [
    "df4.head()"
   ]
  },
  {
   "cell_type": "code",
   "execution_count": 66,
   "id": "89db6345",
   "metadata": {},
   "outputs": [
    {
     "data": {
      "text/plain": [
       "(143, 10)"
      ]
     },
     "execution_count": 66,
     "metadata": {},
     "output_type": "execute_result"
    }
   ],
   "source": [
    "df4.shape"
   ]
  },
  {
   "cell_type": "code",
   "execution_count": 67,
   "id": "fb168cbd",
   "metadata": {},
   "outputs": [],
   "source": [
    "df4['execution_time_x'] = pd.to_datetime(df4['execution_time_x'])\n",
    "df4['execution_time_y'] = pd.to_datetime(df4['execution_time_y'])"
   ]
  },
  {
   "cell_type": "code",
   "execution_count": 68,
   "id": "f9e6b11d",
   "metadata": {},
   "outputs": [
    {
     "data": {
      "text/html": [
       "<div>\n",
       "<style scoped>\n",
       "    .dataframe tbody tr th:only-of-type {\n",
       "        vertical-align: middle;\n",
       "    }\n",
       "\n",
       "    .dataframe tbody tr th {\n",
       "        vertical-align: top;\n",
       "    }\n",
       "\n",
       "    .dataframe thead th {\n",
       "        text-align: right;\n",
       "    }\n",
       "</style>\n",
       "<table border=\"1\" class=\"dataframe\">\n",
       "  <thead>\n",
       "    <tr style=\"text-align: right;\">\n",
       "      <th></th>\n",
       "      <th>order_id</th>\n",
       "      <th>exec_type_x</th>\n",
       "      <th>trader</th>\n",
       "      <th>exchange_code</th>\n",
       "      <th>legal_entity</th>\n",
       "      <th>execution_time_x</th>\n",
       "      <th>order_quantity</th>\n",
       "      <th>clearing_account</th>\n",
       "      <th>exec_type_y</th>\n",
       "      <th>execution_time_y</th>\n",
       "    </tr>\n",
       "  </thead>\n",
       "  <tbody>\n",
       "    <tr>\n",
       "      <th>0</th>\n",
       "      <td>2210530</td>\n",
       "      <td>New</td>\n",
       "      <td>Gyllenhal Sons</td>\n",
       "      <td>NaN</td>\n",
       "      <td>National Fuels Corp</td>\n",
       "      <td>2021-01-11 13:32:00</td>\n",
       "      <td>1000</td>\n",
       "      <td>AC0120</td>\n",
       "      <td>Canceled</td>\n",
       "      <td>2021-01-11 13:33:00</td>\n",
       "    </tr>\n",
       "    <tr>\n",
       "      <th>1</th>\n",
       "      <td>7000370</td>\n",
       "      <td>New</td>\n",
       "      <td>Gyllenhal Sons</td>\n",
       "      <td>SB</td>\n",
       "      <td>National Fuels Corp</td>\n",
       "      <td>2021-06-15 17:43:12</td>\n",
       "      <td>100</td>\n",
       "      <td>AC0120</td>\n",
       "      <td>Canceled</td>\n",
       "      <td>2021-06-15 19:14:36</td>\n",
       "    </tr>\n",
       "    <tr>\n",
       "      <th>3</th>\n",
       "      <td>2209334</td>\n",
       "      <td>New</td>\n",
       "      <td>Gyllenhal Sons</td>\n",
       "      <td>NaN</td>\n",
       "      <td>National Fuels Canada</td>\n",
       "      <td>2021-12-05 16:09:00</td>\n",
       "      <td>5</td>\n",
       "      <td>AC0120</td>\n",
       "      <td>Canceled</td>\n",
       "      <td>2021-06-15 19:14:36</td>\n",
       "    </tr>\n",
       "    <tr>\n",
       "      <th>7</th>\n",
       "      <td>60000117</td>\n",
       "      <td>New</td>\n",
       "      <td>Gyllenhal Sons</td>\n",
       "      <td>C</td>\n",
       "      <td>National Fuels Corp</td>\n",
       "      <td>2021-08-07 18:27:00</td>\n",
       "      <td>100</td>\n",
       "      <td>AC0120</td>\n",
       "      <td>Canceled</td>\n",
       "      <td>2021-08-07 22:00:00</td>\n",
       "    </tr>\n",
       "    <tr>\n",
       "      <th>8</th>\n",
       "      <td>50000131</td>\n",
       "      <td>New</td>\n",
       "      <td>Gyllenhal Sons</td>\n",
       "      <td>NaN</td>\n",
       "      <td>National Fuels Corp</td>\n",
       "      <td>2021-07-21 15:19:12</td>\n",
       "      <td>200</td>\n",
       "      <td>AC0000</td>\n",
       "      <td>Canceled</td>\n",
       "      <td>2021-07-21 15:19:42</td>\n",
       "    </tr>\n",
       "  </tbody>\n",
       "</table>\n",
       "</div>"
      ],
      "text/plain": [
       "   order_id exec_type_x          trader exchange_code           legal_entity  \\\n",
       "0   2210530         New  Gyllenhal Sons           NaN    National Fuels Corp   \n",
       "1   7000370         New  Gyllenhal Sons            SB    National Fuels Corp   \n",
       "3   2209334         New  Gyllenhal Sons           NaN  National Fuels Canada   \n",
       "7  60000117         New  Gyllenhal Sons             C    National Fuels Corp   \n",
       "8  50000131         New  Gyllenhal Sons           NaN    National Fuels Corp   \n",
       "\n",
       "     execution_time_x  order_quantity clearing_account exec_type_y  \\\n",
       "0 2021-01-11 13:32:00            1000           AC0120    Canceled   \n",
       "1 2021-06-15 17:43:12             100           AC0120    Canceled   \n",
       "3 2021-12-05 16:09:00               5           AC0120    Canceled   \n",
       "7 2021-08-07 18:27:00             100           AC0120    Canceled   \n",
       "8 2021-07-21 15:19:12             200           AC0000    Canceled   \n",
       "\n",
       "     execution_time_y  \n",
       "0 2021-01-11 13:33:00  \n",
       "1 2021-06-15 19:14:36  \n",
       "3 2021-06-15 19:14:36  \n",
       "7 2021-08-07 22:00:00  \n",
       "8 2021-07-21 15:19:42  "
      ]
     },
     "execution_count": 68,
     "metadata": {},
     "output_type": "execute_result"
    }
   ],
   "source": [
    "df4.head()"
   ]
  },
  {
   "cell_type": "code",
   "execution_count": 69,
   "id": "c452bc76",
   "metadata": {},
   "outputs": [],
   "source": [
    "df4['spoof_time']=df4['execution_time_y']-df4['execution_time_x']"
   ]
  },
  {
   "cell_type": "code",
   "execution_count": 70,
   "id": "4277940d",
   "metadata": {},
   "outputs": [
    {
     "data": {
      "text/plain": [
       "(143, 11)"
      ]
     },
     "execution_count": 70,
     "metadata": {},
     "output_type": "execute_result"
    }
   ],
   "source": [
    "df4.shape"
   ]
  },
  {
   "cell_type": "code",
   "execution_count": 71,
   "id": "b17bbd37",
   "metadata": {},
   "outputs": [
    {
     "data": {
      "text/plain": [
       "0         0 days 00:01:00\n",
       "1         0 days 01:31:24\n",
       "3     -173 days +03:05:36\n",
       "7         0 days 03:33:00\n",
       "8         0 days 00:00:30\n",
       "              ...        \n",
       "230       0 days 00:00:02\n",
       "231       0 days 01:31:34\n",
       "233       0 days 00:00:02\n",
       "234       0 days 00:32:01\n",
       "235       0 days 10:28:02\n",
       "Name: spoof_time, Length: 143, dtype: timedelta64[ns]"
      ]
     },
     "execution_count": 71,
     "metadata": {},
     "output_type": "execute_result"
    }
   ],
   "source": [
    "df4.spoof_time"
   ]
  },
  {
   "cell_type": "code",
   "execution_count": 72,
   "id": "a1c8daf9",
   "metadata": {},
   "outputs": [],
   "source": [
    "\n",
    "df4['spoof_time']=df4['spoof_time'].apply(lambda x : round(x.total_seconds() / 3600, 2 ))"
   ]
  },
  {
   "cell_type": "code",
   "execution_count": 73,
   "id": "58b69123",
   "metadata": {},
   "outputs": [
    {
     "data": {
      "text/html": [
       "<div>\n",
       "<style scoped>\n",
       "    .dataframe tbody tr th:only-of-type {\n",
       "        vertical-align: middle;\n",
       "    }\n",
       "\n",
       "    .dataframe tbody tr th {\n",
       "        vertical-align: top;\n",
       "    }\n",
       "\n",
       "    .dataframe thead th {\n",
       "        text-align: right;\n",
       "    }\n",
       "</style>\n",
       "<table border=\"1\" class=\"dataframe\">\n",
       "  <thead>\n",
       "    <tr style=\"text-align: right;\">\n",
       "      <th></th>\n",
       "      <th>order_id</th>\n",
       "      <th>exec_type_x</th>\n",
       "      <th>trader</th>\n",
       "      <th>exchange_code</th>\n",
       "      <th>legal_entity</th>\n",
       "      <th>execution_time_x</th>\n",
       "      <th>order_quantity</th>\n",
       "      <th>clearing_account</th>\n",
       "      <th>exec_type_y</th>\n",
       "      <th>execution_time_y</th>\n",
       "      <th>spoof_time</th>\n",
       "    </tr>\n",
       "  </thead>\n",
       "  <tbody>\n",
       "    <tr>\n",
       "      <th>0</th>\n",
       "      <td>2210530</td>\n",
       "      <td>New</td>\n",
       "      <td>Gyllenhal Sons</td>\n",
       "      <td>NaN</td>\n",
       "      <td>National Fuels Corp</td>\n",
       "      <td>2021-01-11 13:32:00</td>\n",
       "      <td>1000</td>\n",
       "      <td>AC0120</td>\n",
       "      <td>Canceled</td>\n",
       "      <td>2021-01-11 13:33:00</td>\n",
       "      <td>0.02</td>\n",
       "    </tr>\n",
       "    <tr>\n",
       "      <th>1</th>\n",
       "      <td>7000370</td>\n",
       "      <td>New</td>\n",
       "      <td>Gyllenhal Sons</td>\n",
       "      <td>SB</td>\n",
       "      <td>National Fuels Corp</td>\n",
       "      <td>2021-06-15 17:43:12</td>\n",
       "      <td>100</td>\n",
       "      <td>AC0120</td>\n",
       "      <td>Canceled</td>\n",
       "      <td>2021-06-15 19:14:36</td>\n",
       "      <td>1.52</td>\n",
       "    </tr>\n",
       "    <tr>\n",
       "      <th>3</th>\n",
       "      <td>2209334</td>\n",
       "      <td>New</td>\n",
       "      <td>Gyllenhal Sons</td>\n",
       "      <td>NaN</td>\n",
       "      <td>National Fuels Canada</td>\n",
       "      <td>2021-12-05 16:09:00</td>\n",
       "      <td>5</td>\n",
       "      <td>AC0120</td>\n",
       "      <td>Canceled</td>\n",
       "      <td>2021-06-15 19:14:36</td>\n",
       "      <td>-4148.91</td>\n",
       "    </tr>\n",
       "    <tr>\n",
       "      <th>7</th>\n",
       "      <td>60000117</td>\n",
       "      <td>New</td>\n",
       "      <td>Gyllenhal Sons</td>\n",
       "      <td>C</td>\n",
       "      <td>National Fuels Corp</td>\n",
       "      <td>2021-08-07 18:27:00</td>\n",
       "      <td>100</td>\n",
       "      <td>AC0120</td>\n",
       "      <td>Canceled</td>\n",
       "      <td>2021-08-07 22:00:00</td>\n",
       "      <td>3.55</td>\n",
       "    </tr>\n",
       "    <tr>\n",
       "      <th>8</th>\n",
       "      <td>50000131</td>\n",
       "      <td>New</td>\n",
       "      <td>Gyllenhal Sons</td>\n",
       "      <td>NaN</td>\n",
       "      <td>National Fuels Corp</td>\n",
       "      <td>2021-07-21 15:19:12</td>\n",
       "      <td>200</td>\n",
       "      <td>AC0000</td>\n",
       "      <td>Canceled</td>\n",
       "      <td>2021-07-21 15:19:42</td>\n",
       "      <td>0.01</td>\n",
       "    </tr>\n",
       "  </tbody>\n",
       "</table>\n",
       "</div>"
      ],
      "text/plain": [
       "   order_id exec_type_x          trader exchange_code           legal_entity  \\\n",
       "0   2210530         New  Gyllenhal Sons           NaN    National Fuels Corp   \n",
       "1   7000370         New  Gyllenhal Sons            SB    National Fuels Corp   \n",
       "3   2209334         New  Gyllenhal Sons           NaN  National Fuels Canada   \n",
       "7  60000117         New  Gyllenhal Sons             C    National Fuels Corp   \n",
       "8  50000131         New  Gyllenhal Sons           NaN    National Fuels Corp   \n",
       "\n",
       "     execution_time_x  order_quantity clearing_account exec_type_y  \\\n",
       "0 2021-01-11 13:32:00            1000           AC0120    Canceled   \n",
       "1 2021-06-15 17:43:12             100           AC0120    Canceled   \n",
       "3 2021-12-05 16:09:00               5           AC0120    Canceled   \n",
       "7 2021-08-07 18:27:00             100           AC0120    Canceled   \n",
       "8 2021-07-21 15:19:12             200           AC0000    Canceled   \n",
       "\n",
       "     execution_time_y  spoof_time  \n",
       "0 2021-01-11 13:33:00        0.02  \n",
       "1 2021-06-15 19:14:36        1.52  \n",
       "3 2021-06-15 19:14:36    -4148.91  \n",
       "7 2021-08-07 22:00:00        3.55  \n",
       "8 2021-07-21 15:19:42        0.01  "
      ]
     },
     "execution_count": 73,
     "metadata": {},
     "output_type": "execute_result"
    }
   ],
   "source": [
    "df4.head()"
   ]
  },
  {
   "cell_type": "code",
   "execution_count": 74,
   "id": "b4424fbc",
   "metadata": {},
   "outputs": [
    {
     "data": {
      "text/html": [
       "<div>\n",
       "<style scoped>\n",
       "    .dataframe tbody tr th:only-of-type {\n",
       "        vertical-align: middle;\n",
       "    }\n",
       "\n",
       "    .dataframe tbody tr th {\n",
       "        vertical-align: top;\n",
       "    }\n",
       "\n",
       "    .dataframe thead th {\n",
       "        text-align: right;\n",
       "    }\n",
       "</style>\n",
       "<table border=\"1\" class=\"dataframe\">\n",
       "  <thead>\n",
       "    <tr style=\"text-align: right;\">\n",
       "      <th></th>\n",
       "      <th>order_id</th>\n",
       "      <th>exec_type_x</th>\n",
       "      <th>trader</th>\n",
       "      <th>exchange_code</th>\n",
       "      <th>legal_entity</th>\n",
       "      <th>execution_time_x</th>\n",
       "      <th>order_quantity</th>\n",
       "      <th>clearing_account</th>\n",
       "      <th>exec_type_y</th>\n",
       "      <th>execution_time_y</th>\n",
       "      <th>spoof_time</th>\n",
       "    </tr>\n",
       "  </thead>\n",
       "  <tbody>\n",
       "    <tr>\n",
       "      <th>40</th>\n",
       "      <td>5007479</td>\n",
       "      <td>New</td>\n",
       "      <td>Gyllenhal Sons</td>\n",
       "      <td>N</td>\n",
       "      <td>National Fuels Canada</td>\n",
       "      <td>2021-04-28 13:36:42</td>\n",
       "      <td>7</td>\n",
       "      <td>AC0025</td>\n",
       "      <td>Canceled</td>\n",
       "      <td>2021-04-28 22:00:00</td>\n",
       "      <td>8.39</td>\n",
       "    </tr>\n",
       "  </tbody>\n",
       "</table>\n",
       "</div>"
      ],
      "text/plain": [
       "    order_id exec_type_x          trader exchange_code           legal_entity  \\\n",
       "40   5007479         New  Gyllenhal Sons             N  National Fuels Canada   \n",
       "\n",
       "      execution_time_x  order_quantity clearing_account exec_type_y  \\\n",
       "40 2021-04-28 13:36:42               7           AC0025    Canceled   \n",
       "\n",
       "      execution_time_y  spoof_time  \n",
       "40 2021-04-28 22:00:00        8.39  "
      ]
     },
     "execution_count": 74,
     "metadata": {},
     "output_type": "execute_result"
    }
   ],
   "source": [
    "df4.loc[df4['order_id']==5007479]"
   ]
  },
  {
   "cell_type": "code",
   "execution_count": 75,
   "id": "70095e81",
   "metadata": {},
   "outputs": [],
   "source": [
    "df4.to_csv('task.csv')"
   ]
  },
  {
   "cell_type": "code",
   "execution_count": null,
   "id": "ec4a26b3",
   "metadata": {},
   "outputs": [],
   "source": []
  },
  {
   "cell_type": "code",
   "execution_count": 115,
   "id": "ba3093dd",
   "metadata": {},
   "outputs": [
    {
     "data": {
      "text/plain": [
       "(2536, 3)"
      ]
     },
     "execution_count": 115,
     "metadata": {},
     "output_type": "execute_result"
    }
   ],
   "source": [
    "col=['order_id','exec_type','execution_time']\n",
    "d1=df[col]\n",
    "d1=d1.drop_duplicates()\n",
    "d1.shape"
   ]
  },
  {
   "cell_type": "code",
   "execution_count": 137,
   "id": "abc38f36",
   "metadata": {},
   "outputs": [
    {
     "name": "stdout",
     "output_type": "stream",
     "text": [
      "      order_id exec_type_1        execution_time_1\n",
      "3005  50000140         New   21-07-2021 3:20:41 PM\n",
      "3006   2210531         New         1/11/2021 13:32\n",
      "3007   2209313         New   13-05-2021 3:52:20 PM\n",
      "3008  50000132         New   21-07-2021 3:19:50 PM\n",
      "3009   2210530         New         1/11/2021 13:32\n",
      "...        ...         ...                     ...\n",
      "3623   2209222         New   26-05-2021 4:26:47 AM\n",
      "3624   2209217         New   26-05-2021 4:16:00 AM\n",
      "3625  13008617         New  26-10-2021 11:31:58 AM\n",
      "3626  13008626         New  26-10-2021 11:32:51 AM\n",
      "3627  13002148         New  20-07-2020 11:32:15 AM\n",
      "\n",
      "[543 rows x 3 columns]\n"
     ]
    },
    {
     "name": "stderr",
     "output_type": "stream",
     "text": [
      "C:\\Users\\sudee\\AppData\\Local\\Temp\\ipykernel_19988\\3802019502.py:4: SettingWithCopyWarning: \n",
      "A value is trying to be set on a copy of a slice from a DataFrame\n",
      "\n",
      "See the caveats in the documentation: https://pandas.pydata.org/pandas-docs/stable/user_guide/indexing.html#returning-a-view-versus-a-copy\n",
      "  f1.rename(columns={'exec_type': 'exec_type_1', 'execution_time': 'execution_time_1'}, inplace=True)\n"
     ]
    }
   ],
   "source": [
    "final=d1.groupby(['exec_type'])\n",
    "\n",
    "f1 = final.get_group('New')\n",
    "f1.rename(columns={'exec_type': 'exec_type_1', 'execution_time': 'execution_time_1'}, inplace=True)\n",
    "print(f1)"
   ]
  },
  {
   "cell_type": "code",
   "execution_count": 138,
   "id": "67970bb1",
   "metadata": {},
   "outputs": [
    {
     "name": "stdout",
     "output_type": "stream",
     "text": [
      "      order_id exec_type_2       execution_time_2\n",
      "1934  13035499        Fill  15-06-2021 1:43:44 PM\n",
      "1935  58500232        Fill  16-08-2021 9:29:42 PM\n",
      "1936  13006016        Fill        10/6/2021 17:49\n",
      "1937   1553135        Fill  27-04-2021 2:46:28 PM\n",
      "1938   2209347        Fill        12/5/2021 17:45\n",
      "...        ...         ...                    ...\n",
      "2814  65001183        Fill  15-07-2020 1:03:20 PM\n",
      "2835   2207828        Fill  17-08-2021 3:40:27 PM\n",
      "2851   2209247        Fill         2/8/2021 17:35\n",
      "2857   2207702        Fill  17-08-2021 2:08:01 PM\n",
      "2878  58500118        Fill  17-08-2021 3:21:40 PM\n",
      "\n",
      "[310 rows x 3 columns]\n"
     ]
    },
    {
     "name": "stderr",
     "output_type": "stream",
     "text": [
      "C:\\Users\\sudee\\AppData\\Local\\Temp\\ipykernel_19988\\4288116309.py:2: SettingWithCopyWarning: \n",
      "A value is trying to be set on a copy of a slice from a DataFrame\n",
      "\n",
      "See the caveats in the documentation: https://pandas.pydata.org/pandas-docs/stable/user_guide/indexing.html#returning-a-view-versus-a-copy\n",
      "  f2.rename(columns={'exec_type': 'exec_type_2', 'execution_time': 'execution_time_2'}, inplace=True)\n"
     ]
    }
   ],
   "source": [
    "\n",
    "f2 = final.get_group('Fill')\n",
    "f2.rename(columns={'exec_type': 'exec_type_2', 'execution_time': 'execution_time_2'}, inplace=True)\n",
    "print(f2)"
   ]
  },
  {
   "cell_type": "code",
   "execution_count": 139,
   "id": "8831d8e0",
   "metadata": {},
   "outputs": [
    {
     "name": "stdout",
     "output_type": "stream",
     "text": [
      "      order_id   exec_type_3        execution_time_3\n",
      "1916  13035499  Partial Fill   15-06-2021 1:43:44 PM\n",
      "1917   1551391  Partial Fill         1/11/2021 12:43\n",
      "1932   2209233  Partial Fill   14-05-2021 4:47:16 PM\n",
      "1933  13006007  Partial Fill         10/6/2021 17:49\n",
      "2032  13008626  Partial Fill  26-10-2021 11:32:51 AM\n",
      "2033  58500104  Partial Fill   17-06-2022 2:53:00 PM\n",
      "2034  50000134  Partial Fill   21-07-2021 3:20:03 PM\n",
      "2035  50000136  Partial Fill   21-07-2021 3:20:21 PM\n",
      "2036  50000138  Partial Fill   21-07-2021 3:20:30 PM\n",
      "2037  50000140  Partial Fill   21-07-2021 3:20:41 PM\n",
      "2038  13007354  Partial Fill   28-04-2021 2:44:54 PM\n",
      "2040   2209592  Partial Fill         11/6/2021 18:34\n",
      "2041  13002574  Partial Fill   20-07-2020 2:49:52 PM\n",
      "2042   2209245  Partial Fill          2/8/2021 17:35\n",
      "2043  53250229  Partial Fill   16-08-2021 9:26:38 PM\n",
      "2045  13007590  Partial Fill   22-09-2021 1:43:07 PM\n",
      "2046  13128425  Partial Fill   15-06-2021 8:16:41 PM\n",
      "2047  13010833  Partial Fill          5/8/2021 13:05\n",
      "2048  13007284  Partial Fill   24-06-2021 2:08:47 PM\n",
      "2049   5008980  Partial Fill   15-06-2021 6:17:02 PM\n",
      "2050   5008982  Partial Fill   15-06-2021 6:17:08 PM\n",
      "2051  58500121  Partial Fill   17-08-2021 3:23:07 PM\n",
      "2052   5006076  Partial Fill   15-06-2021 4:35:04 PM\n",
      "2053   5006440  Partial Fill   15-06-2021 4:35:49 PM\n",
      "2054   5006443  Partial Fill   15-06-2021 5:35:04 PM\n",
      "2055   5008766  Partial Fill   15-06-2021 5:35:49 PM\n",
      "2056   5008975  Partial Fill   15-06-2021 6:16:34 PM\n",
      "2057   5008978  Partial Fill   15-06-2021 6:34:56 PM\n",
      "2058   5009070  Partial Fill   15-06-2021 6:35:37 PM\n",
      "2059  15026011  Partial Fill   15-06-2021 3:33:20 PM\n",
      "2060  13002456  Partial Fill   26-08-2021 2:34:15 PM\n",
      "2061  13002489  Partial Fill   26-08-2021 2:34:56 PM\n",
      "2062  13002496  Partial Fill   26-08-2021 2:35:41 PM\n",
      "2063  13003161  Partial Fill   21-07-2021 1:37:17 PM\n",
      "2078  13004652  Partial Fill         12/5/2021 15:32\n",
      "2079   2209323  Partial Fill   25-05-2021 9:52:39 PM\n",
      "2083   7000794  Partial Fill         10/6/2021 17:08\n",
      "2090   7000805  Partial Fill         10/6/2021 17:08\n",
      "2114   2209457  Partial Fill         10/6/2021 17:29\n",
      "2115   2209459  Partial Fill         10/6/2021 17:29\n",
      "2116   2209464  Partial Fill         10/6/2021 17:29\n",
      "2123  65002587  Partial Fill          7/8/2020 20:37\n",
      "2127   7000858  Partial Fill         10/6/2021 17:08\n",
      "2132   2209340  Partial Fill         12/5/2021 17:25\n",
      "2135   2209246  Partial Fill   25-05-2021 5:19:35 PM\n",
      "2148   7000701  Partial Fill         10/6/2021 17:08\n",
      "2186   7000892  Partial Fill         10/6/2021 17:08\n",
      "2187   2209477  Partial Fill         10/6/2021 17:33\n",
      "2188   2209479  Partial Fill         10/6/2021 17:33\n",
      "2189   2209485  Partial Fill         10/6/2021 17:33\n",
      "2199   7000749  Partial Fill         10/6/2021 17:08\n",
      "2208  13010240  Partial Fill   19-05-2021 4:07:43 PM\n",
      "2209   7000885  Partial Fill         10/6/2021 17:08\n",
      "2214   2209330  Partial Fill   25-05-2021 9:55:19 PM\n"
     ]
    },
    {
     "name": "stderr",
     "output_type": "stream",
     "text": [
      "C:\\Users\\sudee\\AppData\\Local\\Temp\\ipykernel_19988\\2184543984.py:2: SettingWithCopyWarning: \n",
      "A value is trying to be set on a copy of a slice from a DataFrame\n",
      "\n",
      "See the caveats in the documentation: https://pandas.pydata.org/pandas-docs/stable/user_guide/indexing.html#returning-a-view-versus-a-copy\n",
      "  f3.rename(columns={'exec_type': 'exec_type_3', 'execution_time': 'execution_time_3'}, inplace=True)\n"
     ]
    }
   ],
   "source": [
    "\n",
    "f3 = final.get_group('Partial Fill')\n",
    "f3.rename(columns={'exec_type': 'exec_type_3', 'execution_time': 'execution_time_3'}, inplace=True)\n",
    "print(f3)"
   ]
  },
  {
   "cell_type": "code",
   "execution_count": 140,
   "id": "b587d958",
   "metadata": {},
   "outputs": [
    {
     "name": "stdout",
     "output_type": "stream",
     "text": [
      "      order_id exec_type_4       execution_time_4\n",
      "0      2000124     Replace         12/5/2022 1:35\n",
      "2      2000124     Replace  13-05-2022 1:35:00 AM\n",
      "4      2000121     Replace  17-05-2022 1:35:00 AM\n",
      "5      2000122     Replace         12/5/2022 1:35\n",
      "7      2000122     Replace  13-05-2022 1:35:00 AM\n",
      "...        ...         ...                    ...\n",
      "1704   1500583     Replace  22-07-2020 5:42:00 PM\n",
      "1706   1500153     Replace  26-07-2020 8:00:00 PM\n",
      "1707   1500153     Replace  26-07-2020 9:10:00 PM\n",
      "1708   1500153     Replace  26-07-2020 9:50:00 PM\n",
      "1709   1500143     Replace  29-07-2020 6:34:34 PM\n",
      "\n",
      "[1202 rows x 3 columns]\n"
     ]
    },
    {
     "name": "stderr",
     "output_type": "stream",
     "text": [
      "C:\\Users\\sudee\\AppData\\Local\\Temp\\ipykernel_19988\\484061841.py:2: SettingWithCopyWarning: \n",
      "A value is trying to be set on a copy of a slice from a DataFrame\n",
      "\n",
      "See the caveats in the documentation: https://pandas.pydata.org/pandas-docs/stable/user_guide/indexing.html#returning-a-view-versus-a-copy\n",
      "  f4.rename(columns={'exec_type': 'exec_type_4', 'execution_time': 'execution_time_4'}, inplace=True)\n"
     ]
    }
   ],
   "source": [
    "\n",
    "f4 = final.get_group('Replace')\n",
    "f4.rename(columns={'exec_type': 'exec_type_4', 'execution_time': 'execution_time_4'}, inplace=True)\n",
    "print(f4)"
   ]
  },
  {
   "cell_type": "code",
   "execution_count": 141,
   "id": "8dd9fe0b",
   "metadata": {
    "scrolled": true
   },
   "outputs": [
    {
     "name": "stdout",
     "output_type": "stream",
     "text": [
      "      order_id exec_type_5        execution_time_5\n",
      "703    2000122    Canceled  29-04-2022 11:11:00 AM\n",
      "704    2000109    Canceled  29-04-2022 11:11:00 AM\n",
      "705    2000110    Canceled  29-04-2022 11:11:00 AM\n",
      "706    2000117    Canceled  29-04-2022 11:11:00 AM\n",
      "707    2000107    Canceled  29-04-2022 11:11:00 AM\n",
      "...        ...         ...                     ...\n",
      "1911   2000123    Canceled  23-06-2021 11:16:34 PM\n",
      "1912   2000119    Canceled  24-06-2021 11:14:03 PM\n",
      "1913   2000103    Canceled  25-06-2021 11:17:37 PM\n",
      "1914   2000103    Canceled  28-06-2021 11:21:50 PM\n",
      "1915   2000102    Canceled  29-06-2021 11:17:35 PM\n",
      "\n",
      "[427 rows x 3 columns]\n"
     ]
    },
    {
     "name": "stderr",
     "output_type": "stream",
     "text": [
      "C:\\Users\\sudee\\AppData\\Local\\Temp\\ipykernel_19988\\1342336571.py:2: SettingWithCopyWarning: \n",
      "A value is trying to be set on a copy of a slice from a DataFrame\n",
      "\n",
      "See the caveats in the documentation: https://pandas.pydata.org/pandas-docs/stable/user_guide/indexing.html#returning-a-view-versus-a-copy\n",
      "  f5.rename(columns={'exec_type': 'exec_type_5', 'execution_time': 'execution_time_5'}, inplace=True)\n"
     ]
    }
   ],
   "source": [
    "\n",
    "f5 = final.get_group('Canceled')\n",
    "f5.rename(columns={'exec_type': 'exec_type_5', 'execution_time': 'execution_time_5'}, inplace=True)\n",
    "print(f5)"
   ]
  },
  {
   "cell_type": "code",
   "execution_count": 142,
   "id": "5999e281",
   "metadata": {},
   "outputs": [],
   "source": [
    "from functools import reduce\n",
    "data_frames=[f1,f2,f3,f4,f5]\n",
    "df_merged = reduce(lambda  left,right: pd.merge(left,right,on=['order_id'],\n",
    "                                            how='outer'), data_frames)"
   ]
  },
  {
   "cell_type": "code",
   "execution_count": 145,
   "id": "93d80c73",
   "metadata": {},
   "outputs": [
    {
     "data": {
      "text/plain": [
       "(4947, 11)"
      ]
     },
     "execution_count": 145,
     "metadata": {},
     "output_type": "execute_result"
    }
   ],
   "source": [
    "df_merged.shape"
   ]
  },
  {
   "cell_type": "code",
   "execution_count": 146,
   "id": "2efe244d",
   "metadata": {},
   "outputs": [],
   "source": [
    "df_merged.to_csv('merge.csv')"
   ]
  }
 ],
 "metadata": {
  "kernelspec": {
   "display_name": "Python 3 (ipykernel)",
   "language": "python",
   "name": "python3"
  },
  "language_info": {
   "codemirror_mode": {
    "name": "ipython",
    "version": 3
   },
   "file_extension": ".py",
   "mimetype": "text/x-python",
   "name": "python",
   "nbconvert_exporter": "python",
   "pygments_lexer": "ipython3",
   "version": "3.9.13"
  }
 },
 "nbformat": 4,
 "nbformat_minor": 5
}
